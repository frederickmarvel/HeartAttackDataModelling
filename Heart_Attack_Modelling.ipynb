{
  "nbformat": 4,
  "nbformat_minor": 0,
  "metadata": {
    "colab": {
      "provenance": []
    },
    "kernelspec": {
      "name": "python3",
      "display_name": "Python 3"
    },
    "language_info": {
      "name": "python"
    }
  },
  "cells": [
    {
      "cell_type": "code",
      "execution_count": 1,
      "metadata": {
        "id": "2x3p0PkD4QlF"
      },
      "outputs": [],
      "source": [
        "import seaborn as sns\n",
        "import numpy as np \n",
        "import pandas as pd \n",
        "import matplotlib.pyplot as plt\n",
        "from sklearn.model_selection import train_test_split\n",
        "from sklearn.preprocessing import StandardScaler \n",
        "from sklearn.svm import SVC\n",
        "from sklearn.linear_model import LogisticRegression\n",
        "import xgboost as xgb\n",
        "from sklearn.metrics import accuracy_score\n",
        "from sklearn.neighbors import KNeighborsClassifier  \n",
        "from sklearn.ensemble import RandomForestRegressor\n",
        "from sklearn.neighbors import KNeighborsClassifier\n",
        "from sklearn.naive_bayes import BernoulliNB\n",
        "from sklearn.naive_bayes import GaussianNB\n",
        "from sklearn.metrics import confusion_matrix\n",
        "import warnings\n",
        "warnings.filterwarnings(\"ignore\", category=DeprecationWarning)\n"
      ]
    },
    {
      "cell_type": "code",
      "source": [
        "df = pd.read_csv(\"heart.csv\")\n",
        "df.head()"
      ],
      "metadata": {
        "colab": {
          "base_uri": "https://localhost:8080/",
          "height": 206
        },
        "id": "PqWtNGnpGU5n",
        "outputId": "76a2f8cd-634c-4a88-e3fd-0db024b33c44"
      },
      "execution_count": 2,
      "outputs": [
        {
          "output_type": "execute_result",
          "data": {
            "text/plain": [
              "   age  sex  cp  trtbps  chol  fbs  restecg  thalachh  exng  oldpeak  slp  \\\n",
              "0   63    1   3     145   233    1        0       150     0      2.3    0   \n",
              "1   37    1   2     130   250    0        1       187     0      3.5    0   \n",
              "2   41    0   1     130   204    0        0       172     0      1.4    2   \n",
              "3   56    1   1     120   236    0        1       178     0      0.8    2   \n",
              "4   57    0   0     120   354    0        1       163     1      0.6    2   \n",
              "\n",
              "   caa  thall  output  \n",
              "0    0      1       1  \n",
              "1    0      2       1  \n",
              "2    0      2       1  \n",
              "3    0      2       1  \n",
              "4    0      2       1  "
            ],
            "text/html": [
              "\n",
              "  <div id=\"df-9aa04ba3-70d6-44f0-83ca-348466431868\">\n",
              "    <div class=\"colab-df-container\">\n",
              "      <div>\n",
              "<style scoped>\n",
              "    .dataframe tbody tr th:only-of-type {\n",
              "        vertical-align: middle;\n",
              "    }\n",
              "\n",
              "    .dataframe tbody tr th {\n",
              "        vertical-align: top;\n",
              "    }\n",
              "\n",
              "    .dataframe thead th {\n",
              "        text-align: right;\n",
              "    }\n",
              "</style>\n",
              "<table border=\"1\" class=\"dataframe\">\n",
              "  <thead>\n",
              "    <tr style=\"text-align: right;\">\n",
              "      <th></th>\n",
              "      <th>age</th>\n",
              "      <th>sex</th>\n",
              "      <th>cp</th>\n",
              "      <th>trtbps</th>\n",
              "      <th>chol</th>\n",
              "      <th>fbs</th>\n",
              "      <th>restecg</th>\n",
              "      <th>thalachh</th>\n",
              "      <th>exng</th>\n",
              "      <th>oldpeak</th>\n",
              "      <th>slp</th>\n",
              "      <th>caa</th>\n",
              "      <th>thall</th>\n",
              "      <th>output</th>\n",
              "    </tr>\n",
              "  </thead>\n",
              "  <tbody>\n",
              "    <tr>\n",
              "      <th>0</th>\n",
              "      <td>63</td>\n",
              "      <td>1</td>\n",
              "      <td>3</td>\n",
              "      <td>145</td>\n",
              "      <td>233</td>\n",
              "      <td>1</td>\n",
              "      <td>0</td>\n",
              "      <td>150</td>\n",
              "      <td>0</td>\n",
              "      <td>2.3</td>\n",
              "      <td>0</td>\n",
              "      <td>0</td>\n",
              "      <td>1</td>\n",
              "      <td>1</td>\n",
              "    </tr>\n",
              "    <tr>\n",
              "      <th>1</th>\n",
              "      <td>37</td>\n",
              "      <td>1</td>\n",
              "      <td>2</td>\n",
              "      <td>130</td>\n",
              "      <td>250</td>\n",
              "      <td>0</td>\n",
              "      <td>1</td>\n",
              "      <td>187</td>\n",
              "      <td>0</td>\n",
              "      <td>3.5</td>\n",
              "      <td>0</td>\n",
              "      <td>0</td>\n",
              "      <td>2</td>\n",
              "      <td>1</td>\n",
              "    </tr>\n",
              "    <tr>\n",
              "      <th>2</th>\n",
              "      <td>41</td>\n",
              "      <td>0</td>\n",
              "      <td>1</td>\n",
              "      <td>130</td>\n",
              "      <td>204</td>\n",
              "      <td>0</td>\n",
              "      <td>0</td>\n",
              "      <td>172</td>\n",
              "      <td>0</td>\n",
              "      <td>1.4</td>\n",
              "      <td>2</td>\n",
              "      <td>0</td>\n",
              "      <td>2</td>\n",
              "      <td>1</td>\n",
              "    </tr>\n",
              "    <tr>\n",
              "      <th>3</th>\n",
              "      <td>56</td>\n",
              "      <td>1</td>\n",
              "      <td>1</td>\n",
              "      <td>120</td>\n",
              "      <td>236</td>\n",
              "      <td>0</td>\n",
              "      <td>1</td>\n",
              "      <td>178</td>\n",
              "      <td>0</td>\n",
              "      <td>0.8</td>\n",
              "      <td>2</td>\n",
              "      <td>0</td>\n",
              "      <td>2</td>\n",
              "      <td>1</td>\n",
              "    </tr>\n",
              "    <tr>\n",
              "      <th>4</th>\n",
              "      <td>57</td>\n",
              "      <td>0</td>\n",
              "      <td>0</td>\n",
              "      <td>120</td>\n",
              "      <td>354</td>\n",
              "      <td>0</td>\n",
              "      <td>1</td>\n",
              "      <td>163</td>\n",
              "      <td>1</td>\n",
              "      <td>0.6</td>\n",
              "      <td>2</td>\n",
              "      <td>0</td>\n",
              "      <td>2</td>\n",
              "      <td>1</td>\n",
              "    </tr>\n",
              "  </tbody>\n",
              "</table>\n",
              "</div>\n",
              "      <button class=\"colab-df-convert\" onclick=\"convertToInteractive('df-9aa04ba3-70d6-44f0-83ca-348466431868')\"\n",
              "              title=\"Convert this dataframe to an interactive table.\"\n",
              "              style=\"display:none;\">\n",
              "        \n",
              "  <svg xmlns=\"http://www.w3.org/2000/svg\" height=\"24px\"viewBox=\"0 0 24 24\"\n",
              "       width=\"24px\">\n",
              "    <path d=\"M0 0h24v24H0V0z\" fill=\"none\"/>\n",
              "    <path d=\"M18.56 5.44l.94 2.06.94-2.06 2.06-.94-2.06-.94-.94-2.06-.94 2.06-2.06.94zm-11 1L8.5 8.5l.94-2.06 2.06-.94-2.06-.94L8.5 2.5l-.94 2.06-2.06.94zm10 10l.94 2.06.94-2.06 2.06-.94-2.06-.94-.94-2.06-.94 2.06-2.06.94z\"/><path d=\"M17.41 7.96l-1.37-1.37c-.4-.4-.92-.59-1.43-.59-.52 0-1.04.2-1.43.59L10.3 9.45l-7.72 7.72c-.78.78-.78 2.05 0 2.83L4 21.41c.39.39.9.59 1.41.59.51 0 1.02-.2 1.41-.59l7.78-7.78 2.81-2.81c.8-.78.8-2.07 0-2.86zM5.41 20L4 18.59l7.72-7.72 1.47 1.35L5.41 20z\"/>\n",
              "  </svg>\n",
              "      </button>\n",
              "      \n",
              "  <style>\n",
              "    .colab-df-container {\n",
              "      display:flex;\n",
              "      flex-wrap:wrap;\n",
              "      gap: 12px;\n",
              "    }\n",
              "\n",
              "    .colab-df-convert {\n",
              "      background-color: #E8F0FE;\n",
              "      border: none;\n",
              "      border-radius: 50%;\n",
              "      cursor: pointer;\n",
              "      display: none;\n",
              "      fill: #1967D2;\n",
              "      height: 32px;\n",
              "      padding: 0 0 0 0;\n",
              "      width: 32px;\n",
              "    }\n",
              "\n",
              "    .colab-df-convert:hover {\n",
              "      background-color: #E2EBFA;\n",
              "      box-shadow: 0px 1px 2px rgba(60, 64, 67, 0.3), 0px 1px 3px 1px rgba(60, 64, 67, 0.15);\n",
              "      fill: #174EA6;\n",
              "    }\n",
              "\n",
              "    [theme=dark] .colab-df-convert {\n",
              "      background-color: #3B4455;\n",
              "      fill: #D2E3FC;\n",
              "    }\n",
              "\n",
              "    [theme=dark] .colab-df-convert:hover {\n",
              "      background-color: #434B5C;\n",
              "      box-shadow: 0px 1px 3px 1px rgba(0, 0, 0, 0.15);\n",
              "      filter: drop-shadow(0px 1px 2px rgba(0, 0, 0, 0.3));\n",
              "      fill: #FFFFFF;\n",
              "    }\n",
              "  </style>\n",
              "\n",
              "      <script>\n",
              "        const buttonEl =\n",
              "          document.querySelector('#df-9aa04ba3-70d6-44f0-83ca-348466431868 button.colab-df-convert');\n",
              "        buttonEl.style.display =\n",
              "          google.colab.kernel.accessAllowed ? 'block' : 'none';\n",
              "\n",
              "        async function convertToInteractive(key) {\n",
              "          const element = document.querySelector('#df-9aa04ba3-70d6-44f0-83ca-348466431868');\n",
              "          const dataTable =\n",
              "            await google.colab.kernel.invokeFunction('convertToInteractive',\n",
              "                                                     [key], {});\n",
              "          if (!dataTable) return;\n",
              "\n",
              "          const docLinkHtml = 'Like what you see? Visit the ' +\n",
              "            '<a target=\"_blank\" href=https://colab.research.google.com/notebooks/data_table.ipynb>data table notebook</a>'\n",
              "            + ' to learn more about interactive tables.';\n",
              "          element.innerHTML = '';\n",
              "          dataTable['output_type'] = 'display_data';\n",
              "          await google.colab.output.renderOutput(dataTable, element);\n",
              "          const docLink = document.createElement('div');\n",
              "          docLink.innerHTML = docLinkHtml;\n",
              "          element.appendChild(docLink);\n",
              "        }\n",
              "      </script>\n",
              "    </div>\n",
              "  </div>\n",
              "  "
            ]
          },
          "metadata": {},
          "execution_count": 2
        }
      ]
    },
    {
      "cell_type": "code",
      "source": [
        "a = df.shape[0]\n",
        "b = df.shape[1]\n",
        "print(a,b)"
      ],
      "metadata": {
        "colab": {
          "base_uri": "https://localhost:8080/"
        },
        "id": "CS0-HzzNGcOw",
        "outputId": "43abfe06-e981-4fa6-891d-e7ae6ecf3af7"
      },
      "execution_count": 3,
      "outputs": [
        {
          "output_type": "stream",
          "name": "stdout",
          "text": [
            "303 14\n"
          ]
        }
      ]
    },
    {
      "cell_type": "code",
      "source": [
        "df.isnull().sum()"
      ],
      "metadata": {
        "colab": {
          "base_uri": "https://localhost:8080/"
        },
        "id": "zmeaXF8PGq1c",
        "outputId": "fd22a65f-6926-486b-b506-ffec8bead03b"
      },
      "execution_count": 4,
      "outputs": [
        {
          "output_type": "execute_result",
          "data": {
            "text/plain": [
              "age         0\n",
              "sex         0\n",
              "cp          0\n",
              "trtbps      0\n",
              "chol        0\n",
              "fbs         0\n",
              "restecg     0\n",
              "thalachh    0\n",
              "exng        0\n",
              "oldpeak     0\n",
              "slp         0\n",
              "caa         0\n",
              "thall       0\n",
              "output      0\n",
              "dtype: int64"
            ]
          },
          "metadata": {},
          "execution_count": 4
        }
      ]
    },
    {
      "cell_type": "code",
      "source": [
        "df.info()"
      ],
      "metadata": {
        "id": "uOGaySwjHRgg",
        "outputId": "87a470a2-e45f-4dc3-82ce-4b0eb7eb227e",
        "colab": {
          "base_uri": "https://localhost:8080/"
        }
      },
      "execution_count": 5,
      "outputs": [
        {
          "output_type": "stream",
          "name": "stdout",
          "text": [
            "<class 'pandas.core.frame.DataFrame'>\n",
            "RangeIndex: 303 entries, 0 to 302\n",
            "Data columns (total 14 columns):\n",
            " #   Column    Non-Null Count  Dtype  \n",
            "---  ------    --------------  -----  \n",
            " 0   age       303 non-null    int64  \n",
            " 1   sex       303 non-null    int64  \n",
            " 2   cp        303 non-null    int64  \n",
            " 3   trtbps    303 non-null    int64  \n",
            " 4   chol      303 non-null    int64  \n",
            " 5   fbs       303 non-null    int64  \n",
            " 6   restecg   303 non-null    int64  \n",
            " 7   thalachh  303 non-null    int64  \n",
            " 8   exng      303 non-null    int64  \n",
            " 9   oldpeak   303 non-null    float64\n",
            " 10  slp       303 non-null    int64  \n",
            " 11  caa       303 non-null    int64  \n",
            " 12  thall     303 non-null    int64  \n",
            " 13  output    303 non-null    int64  \n",
            "dtypes: float64(1), int64(13)\n",
            "memory usage: 33.3 KB\n"
          ]
        }
      ]
    },
    {
      "cell_type": "code",
      "source": [
        "x = df.iloc[:, 1:-1].values\n",
        "y = df.iloc[:, -1].values\n",
        "# print(x,y)"
      ],
      "metadata": {
        "id": "RQVGK3qBh5E_"
      },
      "execution_count": 15,
      "outputs": []
    },
    {
      "cell_type": "code",
      "source": [
        "x_train, x_test, y_train, y_test = train_test_split(x, y, test_size= 0.2, random_state= 0)\n",
        "print('Training Data:', x_train.shape, y_train.shape)\n",
        "print('Testing Data:', x_test.shape, y_test.shape)"
      ],
      "metadata": {
        "colab": {
          "base_uri": "https://localhost:8080/"
        },
        "id": "WpElbVrFiCSe",
        "outputId": "ff1aeef6-9e4a-40af-ecd8-fe9cb9bca1a9"
      },
      "execution_count": 16,
      "outputs": [
        {
          "output_type": "stream",
          "name": "stdout",
          "text": [
            "Training Data: (242, 12) (242,)\n",
            "Testing Data: (61, 12) (61,)\n"
          ]
        }
      ]
    },
    {
      "cell_type": "code",
      "source": [
        "scaler = StandardScaler()\n",
        "x_train = scaler.fit_transform(x_train)\n",
        "x_test = scaler.transform(x_test)"
      ],
      "metadata": {
        "id": "5n9rVQsGiJCB"
      },
      "execution_count": 17,
      "outputs": []
    },
    {
      "cell_type": "code",
      "source": [
        "x_train,x_test"
      ],
      "metadata": {
        "colab": {
          "base_uri": "https://localhost:8080/"
        },
        "id": "A8tmQjRAiN45",
        "outputId": "fc40be0c-4bcf-4562-a989-344570cfa84e"
      },
      "execution_count": 18,
      "outputs": [
        {
          "output_type": "execute_result",
          "data": {
            "text/plain": [
              "(array([[-1.43641607,  0.98584243, -0.57412513, ..., -0.66169316,\n",
              "         -0.70710678, -0.46472917],\n",
              "        [-1.43641607,  0.98584243,  0.83106608, ..., -0.66169316,\n",
              "          0.26516504, -0.46472917],\n",
              "        [ 0.69617712,  0.98584243,  0.47976828, ...,  0.95577901,\n",
              "         -0.70710678, -0.46472917],\n",
              "        ...,\n",
              "        [ 0.69617712,  1.94013791, -0.69122439, ..., -0.66169316,\n",
              "         -0.70710678,  1.14190596],\n",
              "        [ 0.69617712,  0.98584243,  0.36266901, ...,  0.95577901,\n",
              "         -0.70710678, -0.46472917],\n",
              "        [ 0.69617712,  0.03154696, -0.69122439, ..., -0.66169316,\n",
              "         -0.70710678, -0.46472917]]),\n",
              " array([[ 0.69617712, -0.92274852,  0.77251645, -1.36354075, -0.41803981,\n",
              "          0.90163913, -1.07375268,  1.40984195,  1.2900049 , -2.27916533,\n",
              "         -0.70710678,  1.14190596],\n",
              "        [ 0.69617712,  1.94013791,  2.23625729, -0.3703119 , -0.41803981,\n",
              "         -0.97936664,  0.22375805, -0.70929937, -0.38883987, -0.66169316,\n",
              "         -0.70710678,  1.14190596],\n",
              "        [ 0.69617712,  1.94013791,  2.23625729,  0.7728383 , -0.41803981,\n",
              "         -0.97936664,  0.39675948, -0.70929937, -0.72460883, -0.66169316,\n",
              "         -0.70710678,  1.14190596],\n",
              "        [ 0.69617712, -0.92274852, -0.39847623,  0.21063328, -0.41803981,\n",
              "         -0.97936664, -0.38174696,  1.40984195,  1.45788938, -0.66169316,\n",
              "          0.26516504,  1.14190596],\n",
              "        [ 0.69617712,  0.98584243, -0.10572806, -0.29535123, -0.41803981,\n",
              "          0.90163913, -0.16549517, -0.70929937,  0.61846699, -0.66169316,\n",
              "          2.20970869,  1.14190596],\n",
              "        [ 0.69617712, -0.92274852, -0.45702586,  0.51047596, -0.41803981,\n",
              "         -0.97936664,  0.69951198, -0.70929937, -0.47278211, -0.66169316,\n",
              "         -0.70710678,  1.14190596],\n",
              "        [ 0.69617712, -0.92274852, -1.27672073, -1.49472192, -0.41803981,\n",
              "         -0.97936664, -1.54950661,  1.40984195,  0.78635147, -0.66169316,\n",
              "         -0.70710678,  1.14190596],\n",
              "        [ 0.69617712, -0.92274852, -0.10572806,  0.13567261, -0.41803981,\n",
              "         -0.97936664, -0.12224481, -0.70929937,  0.28269804, -0.66169316,\n",
              "          0.26516504,  1.14190596],\n",
              "        [-1.43641607, -0.92274852,  3.9927463 ,  0.7728383 ,  2.39211668,\n",
              "         -0.97936664, -0.72774982,  1.40984195,  2.46519624, -2.27916533,\n",
              "          1.23743687,  1.14190596],\n",
              "        [ 0.69617712, -0.92274852, -0.10572806,  1.55992532,  2.39211668,\n",
              "         -0.97936664, -0.77100017,  1.40984195,  0.61846699,  0.95577901,\n",
              "          2.20970869,  1.14190596],\n",
              "        [ 0.69617712,  0.98584243,  1.06526461, -2.26306878,  2.39211668,\n",
              "          0.90163913,  1.00226448, -0.70929937, -0.72460883,  0.95577901,\n",
              "          0.26516504,  1.14190596],\n",
              "        [-1.43641607, -0.92274852, -0.10572806,  0.41677512, -0.41803981,\n",
              "          0.90163913,  0.56976091, -0.70929937, -0.89249331,  0.95577901,\n",
              "         -0.70710678, -0.46472917],\n",
              "        [ 0.69617712, -0.92274852,  0.18702011,  0.13567261, -0.41803981,\n",
              "         -0.97936664, -0.98725196, -0.70929937,  1.45788938, -0.66169316,\n",
              "          0.26516504,  1.14190596],\n",
              "        [ 0.69617712,  0.03154696, -0.10572806,  0.36055462, -0.41803981,\n",
              "          0.90163913,  0.91576377, -0.70929937, -0.38883987,  0.95577901,\n",
              "         -0.70710678, -0.46472917],\n",
              "        [-1.43641607,  0.98584243, -0.69122439, -0.52023323, -0.41803981,\n",
              "          0.90163913,  0.35350912, -0.70929937,  0.45058251, -0.66169316,\n",
              "         -0.70710678, -0.46472917],\n",
              "        [ 0.69617712,  0.98584243, -1.86221707, -0.46401273, -0.41803981,\n",
              "          0.90163913, -0.29524624,  1.40984195,  0.11481356, -0.66169316,\n",
              "         -0.70710678, -0.46472917],\n",
              "        [ 0.69617712, -0.92274852, -1.39382   , -0.25787089,  2.39211668,\n",
              "          0.90163913, -0.12224481, -0.70929937, -0.80855107,  0.95577901,\n",
              "          2.20970869,  1.14190596],\n",
              "        [ 0.69617712,  0.98584243, -0.45702586,  0.15441278,  2.39211668,\n",
              "          0.90163913,  1.0887652 , -0.70929937, -0.89249331,  0.95577901,\n",
              "          1.23743687, -0.46472917],\n",
              "        [ 0.69617712, -0.92274852, -0.69122439,  0.37929479, -0.41803981,\n",
              "          0.90163913, -2.19826197,  1.40984195,  0.61846699, -0.66169316,\n",
              "          1.23743687,  1.14190596],\n",
              "        [ 0.69617712,  0.98584243, -0.69122439, -0.12668972,  2.39211668,\n",
              "          0.90163913,  1.91052199, -0.70929937, -0.2209554 , -2.27916533,\n",
              "         -0.70710678,  1.14190596],\n",
              "        [ 0.69617712, -0.92274852,  0.47976828, -0.38905206, -0.41803981,\n",
              "          0.90163913,  1.21851627, -0.70929937, -0.89249331,  0.95577901,\n",
              "         -0.70710678, -0.46472917],\n",
              "        [ 0.69617712, -0.92274852, -0.80832366, -0.52023323, -0.41803981,\n",
              "          0.90163913, -0.42499731, -0.70929937,  0.11481356, -0.66169316,\n",
              "         -0.70710678,  1.14190596],\n",
              "        [ 0.69617712,  0.03154696, -0.69122439,  0.64165713, -0.41803981,\n",
              "         -0.97936664, -2.02526054, -0.70929937,  0.28269804, -0.66169316,\n",
              "          0.26516504,  1.14190596],\n",
              "        [ 0.69617712, -0.92274852, -1.27672073, -0.76385541, -0.41803981,\n",
              "         -0.97936664, -1.80900875,  1.40984195, -0.89249331, -0.66169316,\n",
              "          0.26516504, -0.46472917],\n",
              "        [ 0.69617712,  0.03154696, -1.27672073, -0.22039056, -0.41803981,\n",
              "          0.90163913,  0.13725733, -0.70929937, -0.89249331,  0.95577901,\n",
              "         -0.70710678, -0.46472917],\n",
              "        [-1.43641607,  0.98584243, -0.10572806,  0.30433412, -0.41803981,\n",
              "          0.90163913, -2.28476268, -0.70929937,  0.11481356, -0.66169316,\n",
              "          0.26516504,  1.14190596],\n",
              "        [ 0.69617712, -0.92274852, -0.39847623, -0.6514144 , -0.41803981,\n",
              "          0.90163913,  0.78601269, -0.70929937, -0.05307092,  0.95577901,\n",
              "          1.23743687,  1.14190596],\n",
              "        [ 0.69617712, -0.92274852, -0.69122439,  0.04197178, -0.41803981,\n",
              "         -0.97936664, -0.25199588, -0.70929937, -0.2209554 ,  0.95577901,\n",
              "         -0.70710678,  1.14190596],\n",
              "        [-1.43641607,  0.98584243,  0.36266901, -0.50149307, -0.41803981,\n",
              "          0.90163913,  0.09400698, -0.70929937, -0.89249331, -0.66169316,\n",
              "         -0.70710678, -0.46472917],\n",
              "        [ 0.69617712,  0.03154696,  0.12847048, -0.85755624, -0.41803981,\n",
              "          0.90163913,  0.35350912, -0.70929937, -0.2209554 ,  0.95577901,\n",
              "          0.26516504, -0.46472917],\n",
              "        [ 0.69617712,  0.98584243,  0.47976828, -1.15739892, -0.41803981,\n",
              "         -0.97936664,  0.22375805, -0.70929937,  1.62577385, -0.66169316,\n",
              "         -0.70710678, -0.46472917],\n",
              "        [ 0.69617712, -0.92274852,  0.59686755,  1.16638181, -0.41803981,\n",
              "         -0.97936664, -0.12224481,  1.40984195, -0.89249331, -0.66169316,\n",
              "          2.20970869,  1.14190596],\n",
              "        [-1.43641607,  0.03154696, -0.33992659,  1.11016131, -0.41803981,\n",
              "          0.90163913,  0.56976091, -0.70929937, -0.89249331,  0.95577901,\n",
              "         -0.70710678, -0.46472917],\n",
              "        [ 0.69617712,  0.98584243,  2.35335655, -0.89503658,  2.39211668,\n",
              "          0.90163913,  0.52651055, -0.70929937, -0.47278211,  0.95577901,\n",
              "         -0.70710678,  1.14190596],\n",
              "        [ 0.69617712,  0.03154696, -0.57412513, -1.02621775, -0.41803981,\n",
              "          0.90163913,  1.04551484, -0.70929937, -0.89249331,  0.95577901,\n",
              "         -0.70710678, -0.46472917],\n",
              "        [-1.43641607, -0.92274852,  2.47045582,  0.04197178, -0.41803981,\n",
              "          0.90163913, -0.29524624,  1.40984195, -0.89249331, -0.66169316,\n",
              "         -0.70710678, -0.46472917],\n",
              "        [ 0.69617712,  0.98584243,  1.65076095,  0.41677512, -0.41803981,\n",
              "          0.90163913, -1.63600732,  1.40984195,  1.54183161, -0.66169316,\n",
              "          0.26516504,  1.14190596],\n",
              "        [ 0.69617712,  0.03154696, -0.22282732,  1.14764164, -0.41803981,\n",
              "         -0.97936664,  0.87251341, -0.70929937, -0.89249331,  0.95577901,\n",
              "         -0.70710678, -0.46472917],\n",
              "        [ 0.69617712, -0.92274852, -0.39847623,  0.04197178,  2.39211668,\n",
              "         -0.97936664, -0.25199588,  1.40984195,  0.11481356, -0.66169316,\n",
              "          0.26516504, -0.46472917],\n",
              "        [-1.43641607, -0.92274852,  0.47976828,  0.39803495, -0.41803981,\n",
              "         -0.97936664,  0.44000983, -0.70929937,  2.12942728, -2.27916533,\n",
              "          1.23743687, -0.46472917],\n",
              "        [ 0.69617712, -0.92274852,  0.47976828, -1.02621775, -0.41803981,\n",
              "          0.90163913, -0.07899445, -0.70929937, -0.55672435, -0.66169316,\n",
              "         -0.70710678, -2.0713643 ],\n",
              "        [-1.43641607, -0.92274852, -0.22282732,  1.0539408 , -0.41803981,\n",
              "         -0.97936664,  0.39675948, -0.70929937, -0.89249331,  0.95577901,\n",
              "          0.26516504, -0.46472917],\n",
              "        [ 0.69617712,  0.98584243,  0.36266901, -0.44527257, -0.41803981,\n",
              "          0.90163913,  0.82926305, -0.70929937, -0.89249331,  0.95577901,\n",
              "          3.18198052, -0.46472917],\n",
              "        [ 0.69617712, -0.92274852, -1.27672073,  0.52921612, -0.41803981,\n",
              "         -0.97936664, -1.37650518,  1.40984195, -0.05307092, -0.66169316,\n",
              "          0.26516504, -0.46472917],\n",
              "        [ 0.69617712,  1.94013791, -0.39847623, -0.63267424, -0.41803981,\n",
              "         -0.97936664, -1.07375268,  1.40984195,  0.28269804,  0.95577901,\n",
              "          0.26516504, -0.46472917],\n",
              "        [ 0.69617712,  0.03154696,  1.41656242, -0.03298889, -0.41803981,\n",
              "         -0.97936664, -0.29524624, -0.70929937, -0.89249331,  0.95577901,\n",
              "         -0.70710678, -0.46472917],\n",
              "        [ 0.69617712,  0.98584243, -0.10572806, -0.61393407, -0.41803981,\n",
              "         -0.97936664,  0.78601269, -0.70929937,  0.78635147, -0.66169316,\n",
              "         -0.70710678, -0.46472917],\n",
              "        [ 0.69617712,  0.98584243,  0.47976828, -0.25787089, -0.41803981,\n",
              "          0.90163913,  0.56976091, -0.70929937, -0.38883987, -0.66169316,\n",
              "          0.26516504,  1.14190596],\n",
              "        [-1.43641607, -0.92274852,  0.12847048,  3.04039852, -0.41803981,\n",
              "         -0.97936664,  0.00750626,  1.40984195,  0.70240923, -0.66169316,\n",
              "          1.23743687,  1.14190596],\n",
              "        [ 0.69617712,  0.03154696, -0.69122439,  0.30433412, -0.41803981,\n",
              "          0.90163913,  1.00226448, -0.70929937, -0.89249331,  0.95577901,\n",
              "         -0.70710678,  1.14190596],\n",
              "        [ 0.69617712,  0.03154696, -0.69122439,  1.46622448, -0.41803981,\n",
              "          0.90163913,  0.95901412, -0.70929937, -0.72460883,  0.95577901,\n",
              "         -0.70710678, -0.46472917],\n",
              "        [-1.43641607,  0.03154696, -0.69122439,  0.41677512, -0.41803981,\n",
              "         -0.97936664, -1.24675411,  1.40984195, -0.72460883,  0.95577901,\n",
              "          0.26516504, -0.46472917],\n",
              "        [-1.43641607,  0.98584243, -1.15962146,  0.39803495, -0.41803981,\n",
              "         -0.97936664,  0.95901412,  1.40984195, -0.89249331,  0.95577901,\n",
              "         -0.70710678, -0.46472917],\n",
              "        [ 0.69617712,  0.03154696,  0.18702011, -0.82007591, -0.41803981,\n",
              "          0.90163913, -0.77100017, -0.70929937, -0.89249331, -0.66169316,\n",
              "         -0.70710678, -2.0713643 ],\n",
              "        [-1.43641607,  0.98584243, -2.21351487, -0.89503658, -0.41803981,\n",
              "          0.90163913,  1.26176663, -0.70929937, -0.89249331,  0.95577901,\n",
              "         -0.70710678, -0.46472917],\n",
              "        [ 0.69617712, -0.92274852, -0.69122439, -0.91377674, -0.41803981,\n",
              "          0.90163913, -0.85750089,  1.40984195,  0.45058251, -0.66169316,\n",
              "         -0.70710678,  1.14190596],\n",
              "        [-1.43641607,  0.98584243, -0.80832366, -0.08920939, -0.41803981,\n",
              "          0.90163913, -0.0357441 , -0.70929937, -0.64066659, -0.66169316,\n",
              "          0.26516504, -0.46472917],\n",
              "        [-1.43641607,  0.03154696, -0.10572806, -0.20165039, -0.41803981,\n",
              "         -0.97936664,  1.04551484, -0.70929937, -0.89249331, -0.66169316,\n",
              "          0.26516504, -0.46472917],\n",
              "        [ 0.69617712,  0.98584243,  1.06526461, -0.6514144 ,  2.39211668,\n",
              "          0.90163913,  0.31025876, -0.70929937,  0.45058251,  0.95577901,\n",
              "         -0.70710678, -0.46472917],\n",
              "        [-1.43641607,  0.03154696, -0.69122439, -0.05172906, -0.41803981,\n",
              "          0.90163913,  0.52651055, -0.70929937,  0.03087132,  0.95577901,\n",
              "         -0.70710678, -0.46472917],\n",
              "        [-1.43641607, -0.92274852, -1.86221707,  0.02323161, -0.41803981,\n",
              "         -0.97936664, -1.20350375, -0.70929937, -0.05307092, -0.66169316,\n",
              "         -0.70710678, -0.46472917]]))"
            ]
          },
          "metadata": {},
          "execution_count": 18
        }
      ]
    },
    {
      "cell_type": "markdown",
      "source": [
        "# KNN Modelling"
      ],
      "metadata": {
        "id": "-EtTq6JAiX3P"
      }
    },
    {
      "cell_type": "code",
      "source": [
        "model = KNeighborsClassifier(n_neighbors = 1)  \n",
        "model.fit(x_train, y_train)\n",
        "predicted = model.predict(x_test)\n",
        "  \n",
        "\n",
        "print(confusion_matrix(y_test, predicted))"
      ],
      "metadata": {
        "colab": {
          "base_uri": "https://localhost:8080/"
        },
        "id": "_yY6QZvuiaOp",
        "outputId": "dc9a14bb-ef74-48ff-85ed-a38702e0cf0c"
      },
      "execution_count": 21,
      "outputs": [
        {
          "output_type": "stream",
          "name": "stdout",
          "text": [
            "[[22  5]\n",
            " [ 8 26]]\n"
          ]
        }
      ]
    },
    {
      "cell_type": "code",
      "source": [
        "accuracy_score(y_test, predicted.round())*100"
      ],
      "metadata": {
        "colab": {
          "base_uri": "https://localhost:8080/"
        },
        "id": "M0r_RzLWjsZk",
        "outputId": "bd06f4ce-9680-45d2-d33a-ac8bf58a16b5"
      },
      "execution_count": 22,
      "outputs": [
        {
          "output_type": "execute_result",
          "data": {
            "text/plain": [
              "78.68852459016394"
            ]
          },
          "metadata": {},
          "execution_count": 22
        }
      ]
    },
    {
      "cell_type": "code",
      "source": [
        "error_rate = []\n",
        "  \n",
        "for i in range(1, 50):\n",
        "      \n",
        "    model = KNeighborsClassifier(n_neighbors = i)\n",
        "    model.fit(x_train, y_train)\n",
        "    pred_i = model.predict(x_test)\n",
        "    error_rate.append(np.mean(pred_i != y_test))\n",
        "  \n",
        "plt.figure(figsize =(12, 8))\n",
        "plt.plot(range(1, 50), error_rate, color ='purple',\n",
        "                linestyle ='dashed', marker ='o',\n",
        "         markerfacecolor ='black', markersize = 8)\n",
        "  \n",
        "plt.title('Error Rate vs. K-Value')\n",
        "plt.xlabel('K')\n",
        "plt.ylabel('Error Rate')"
      ],
      "metadata": {
        "colab": {
          "base_uri": "https://localhost:8080/",
          "height": 736
        },
        "id": "29oTskRzif9t",
        "outputId": "9fdc7b14-4248-43b4-f6b4-9378087f2f2c"
      },
      "execution_count": 28,
      "outputs": [
        {
          "output_type": "execute_result",
          "data": {
            "text/plain": [
              "Text(0, 0.5, 'Error Rate')"
            ]
          },
          "metadata": {},
          "execution_count": 28
        },
        {
          "output_type": "display_data",
          "data": {
            "text/plain": [
              "<Figure size 1200x800 with 1 Axes>"
            ],
            "image/png": "[encoded data removed]"
          },
          "metadata": {}
        }
      ]
    },
    {
      "cell_type": "code",
      "source": [
        "model = KNeighborsClassifier(n_neighbors = 10)\n",
        "  \n",
        "model.fit(x_train, y_train)\n",
        "predicted = model.predict(x_test)\n",
        "  \n",
        "print(\"The accuracy of KNN is : \", accuracy_score(y_test, predicted.round())*100, \"%\")"
      ],
      "metadata": {
        "colab": {
          "base_uri": "https://localhost:8080/"
        },
        "id": "ZUxprnR6ihtO",
        "outputId": "666b5119-c2ea-44ba-be18-47f446f74c74"
      },
      "execution_count": 33,
      "outputs": [
        {
          "output_type": "stream",
          "name": "stdout",
          "text": [
            "The accuracy of KNN is :  88.52459016393442 %\n"
          ]
        }
      ]
    }
  ]
}